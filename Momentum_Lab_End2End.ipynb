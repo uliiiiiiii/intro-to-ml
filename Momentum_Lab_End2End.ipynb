{
  "cells": [
    {
      "cell_type": "markdown",
      "metadata": {
        "id": "kbeeyZzNNjD0"
      },
      "source": [
        "# Lab 4: Learning from Image Data\n",
        "\n",
        "## Part 0: Getting Started\n",
        "\n",
        "Like in Lab 3, we will be using [PyTorch](https://pytorch.org/) to create and use neural network models without having to do any of the math ourselves. PyTorch runs all the math in the background so that we can focus on the inputs and outputs to the neural network model.\n"
      ]
    },
    {
      "cell_type": "code",
      "execution_count": 1,
      "metadata": {
        "id": "cbOrLdAqtyfM"
      },
      "outputs": [],
      "source": [
        "#@title Installation\n",
        "\n",
        "import torch\n",
        "from torch import nn\n",
        "from torch.utils.data import DataLoader\n",
        "from torchvision import datasets, transforms\n",
        "import numpy as np\n",
        "from matplotlib import pyplot as plt\n",
        "from tqdm import tqdm"
      ]
    },
    {
      "cell_type": "markdown",
      "metadata": {
        "id": "PRk4zCj6ODid"
      },
      "source": [
        "Building off the last lab, you will build a computer program that can look at black-and-white images of hand-written digits and automatically recognize what number (0-9) is there. Like before, we will use the **MNIST** dataset of images of hand-written digits, and split into *training* data and *test* data.\n",
        "\n",
        "To refresh, remember that the model learns to model the *training* data. The *trained* model is then applied to new data, called *test* data, which is used to test how well the model does.\n",
        "\n",
        "First we will download the MNIST data!"
      ]
    },
    {
      "cell_type": "code",
      "execution_count": 2,
      "metadata": {
        "colab": {
          "base_uri": "https://localhost:8080/"
        },
        "id": "JN5Uw7PSt-P0",
        "outputId": "42756b20-c7ab-4ae3-ec06-e8f55ab37d17"
      },
      "outputs": [
        {
          "output_type": "stream",
          "name": "stdout",
          "text": [
            "Downloading http://yann.lecun.com/exdb/mnist/train-images-idx3-ubyte.gz\n",
            "Failed to download (trying next):\n",
            "HTTP Error 403: Forbidden\n",
            "\n",
            "Downloading https://ossci-datasets.s3.amazonaws.com/mnist/train-images-idx3-ubyte.gz\n",
            "Downloading https://ossci-datasets.s3.amazonaws.com/mnist/train-images-idx3-ubyte.gz to ./data/MNIST/raw/train-images-idx3-ubyte.gz\n"
          ]
        },
        {
          "output_type": "stream",
          "name": "stderr",
          "text": [
            "100%|██████████| 9912422/9912422 [00:10<00:00, 937922.68it/s] \n"
          ]
        },
        {
          "output_type": "stream",
          "name": "stdout",
          "text": [
            "Extracting ./data/MNIST/raw/train-images-idx3-ubyte.gz to ./data/MNIST/raw\n",
            "\n",
            "Downloading http://yann.lecun.com/exdb/mnist/train-labels-idx1-ubyte.gz\n",
            "Failed to download (trying next):\n",
            "HTTP Error 403: Forbidden\n",
            "\n",
            "Downloading https://ossci-datasets.s3.amazonaws.com/mnist/train-labels-idx1-ubyte.gz\n",
            "Downloading https://ossci-datasets.s3.amazonaws.com/mnist/train-labels-idx1-ubyte.gz to ./data/MNIST/raw/train-labels-idx1-ubyte.gz\n"
          ]
        },
        {
          "output_type": "stream",
          "name": "stderr",
          "text": [
            "100%|██████████| 28881/28881 [00:00<00:00, 135255.41it/s]\n"
          ]
        },
        {
          "output_type": "stream",
          "name": "stdout",
          "text": [
            "Extracting ./data/MNIST/raw/train-labels-idx1-ubyte.gz to ./data/MNIST/raw\n",
            "\n",
            "Downloading http://yann.lecun.com/exdb/mnist/t10k-images-idx3-ubyte.gz\n",
            "Failed to download (trying next):\n",
            "HTTP Error 403: Forbidden\n",
            "\n",
            "Downloading https://ossci-datasets.s3.amazonaws.com/mnist/t10k-images-idx3-ubyte.gz\n",
            "Downloading https://ossci-datasets.s3.amazonaws.com/mnist/t10k-images-idx3-ubyte.gz to ./data/MNIST/raw/t10k-images-idx3-ubyte.gz\n"
          ]
        },
        {
          "output_type": "stream",
          "name": "stderr",
          "text": [
            "100%|██████████| 1648877/1648877 [00:01<00:00, 1262258.00it/s]\n"
          ]
        },
        {
          "output_type": "stream",
          "name": "stdout",
          "text": [
            "Extracting ./data/MNIST/raw/t10k-images-idx3-ubyte.gz to ./data/MNIST/raw\n",
            "\n",
            "Downloading http://yann.lecun.com/exdb/mnist/t10k-labels-idx1-ubyte.gz\n",
            "Failed to download (trying next):\n",
            "HTTP Error 403: Forbidden\n",
            "\n",
            "Downloading https://ossci-datasets.s3.amazonaws.com/mnist/t10k-labels-idx1-ubyte.gz\n",
            "Downloading https://ossci-datasets.s3.amazonaws.com/mnist/t10k-labels-idx1-ubyte.gz to ./data/MNIST/raw/t10k-labels-idx1-ubyte.gz\n"
          ]
        },
        {
          "output_type": "stream",
          "name": "stderr",
          "text": [
            "100%|██████████| 4542/4542 [00:00<00:00, 4151346.43it/s]"
          ]
        },
        {
          "output_type": "stream",
          "name": "stdout",
          "text": [
            "Extracting ./data/MNIST/raw/t10k-labels-idx1-ubyte.gz to ./data/MNIST/raw\n",
            "\n"
          ]
        },
        {
          "output_type": "stream",
          "name": "stderr",
          "text": [
            "\n"
          ]
        }
      ],
      "source": [
        "#@title Download MNIST data\n",
        "\n",
        "training_data = datasets.MNIST(\"./data\", train=True, download=True,\n",
        "      transform=transforms.ToTensor(),\n",
        ")\n",
        "test_data = datasets.MNIST(\"./data\", train=False, download=True,\n",
        "      transform=transforms.ToTensor(),\n",
        ")"
      ]
    },
    {
      "cell_type": "markdown",
      "metadata": {
        "id": "kpTTmh7IWTXR"
      },
      "source": [
        "Each item in MNIST is a pair -- the image of the hand-written digit, and the true value of the digit, 0-9. This true value is called the *label*.\n",
        "\n",
        "```\n",
        "(image, label)\n",
        "```\n",
        "\n",
        "Each image is a 28 x 28 grid of values from 0 - 1. These values show how bright the image is at each spot in the grid. 1 is the brightest, white, and 0 is the darkest, black. The *label* tells us which number, 0-9, is made by the brightness values in the grid."
      ]
    },
    {
      "cell_type": "markdown",
      "metadata": {
        "id": "Zpb0G_WrXSLM"
      },
      "source": [
        "## Part 1: 2D Image Models\n",
        "\n",
        "In the last lab, the computer model that you built did not actually treat images for what they are: a 2D grid of brightness values. Here we will build a special type of neural network, called a CNN: a Convolutional Neural Network.\n",
        "\n",
        "CNNs are very similar to the neural networks you used in Lab 3. But, they are specially designed to be good at understanding what's in images. This is because CNNs process data that has values along both a height and a width -- just like images.\n",
        "\n",
        "Images are made up of pixels, the brightness and color values for each spot in the image grid, can be black-and-white or color. Color images have three distinct color values, called *channels*: Red, Green, and Blue (RGB)."
      ]
    },
    {
      "cell_type": "markdown",
      "metadata": {
        "id": "UNqa56FS1Ae-"
      },
      "source": [
        "**Question 1:** Let's consider the information in an image.\n",
        "\n",
        "*   How many channels do color images have? What are their values or colors?\n",
        "* How many channels do you think black-and-white images have? What do the values in each of these channels mean?"
      ]
    },
    {
      "cell_type": "markdown",
      "metadata": {
        "id": "Jl-T07qO1azn"
      },
      "source": [
        "Put your answers below (double click to edit):\n",
        "\n",
        "**Your answer**:\n",
        "1. Three channels: red, blue and green\n",
        "2. One channel: intensity of black. White means that something is written here\n",
        "---"
      ]
    },
    {
      "cell_type": "markdown",
      "metadata": {
        "id": "rug2-jFY1pp3"
      },
      "source": [
        "Because images are 2D grids, we can learn from them in a special way. We will use a small window, called a ***filter* or *kernel***, that can help detect changes in the brightness values of the image. This method is called *convolution* -- giving us the name of Convolutional Neural Networks (CNNs). **Our model will help us learn the best filters for understanding the images in our dataset.**"
      ]
    },
    {
      "cell_type": "markdown",
      "source": [],
      "metadata": {
        "id": "JCsWKSgisOtw"
      }
    },
    {
      "cell_type": "markdown",
      "metadata": {
        "id": "ZUTk--9D2Gsw"
      },
      "source": [
        "Let's build a convolution operation that uses a small, 3x3 filter to detect changes in an input image. This will let us define a layer to our CNN network:"
      ]
    },
    {
      "cell_type": "code",
      "execution_count": 4,
      "metadata": {
        "colab": {
          "base_uri": "https://localhost:8080/"
        },
        "id": "lc01PsNO6LtY",
        "outputId": "d8e8cd6a-3f10-4fa0-a08d-8caebf3241af"
      },
      "outputs": [
        {
          "output_type": "stream",
          "name": "stdout",
          "text": [
            "Each image in the dataset is 1 channel and has (height, width) of (28, 28)\n",
            "Sample input size:  torch.Size([100, 1, 28, 28])\n",
            "Sample output size: torch.Size([100, 32, 28, 28])\n"
          ]
        }
      ],
      "source": [
        "### CONVOLUTION ###\n",
        "\n",
        "example_image = training_data[0][0]\n",
        "channels, height, width = example_image.shape\n",
        "print(f\"Each image in the dataset is {channels} channel and has (height, width) of ({height}, {width})\")\n",
        "\n",
        "# Let's try feeding through a random image into a convolutional layer\n",
        "# 1. Create a random sample image input\n",
        "B = 100\n",
        "sample_input = torch.rand((B, channels, height, width))\n",
        "print(f\"Sample input size:  {sample_input.size()}\")\n",
        "\n",
        "# 2. Define a 2D convolutional layer for the images (Hint: use nn.Conv2D)\n",
        "#    Define your layer to have a kernel size of 3 and output 32 channels.\n",
        "conv_layer = nn.Conv2d(\n",
        "              in_channels=channels,\n",
        "              out_channels=32,\n",
        "              kernel_size=3,\n",
        "              padding='same'\n",
        ")\n",
        "\n",
        "# 3. Call your convolutional layer (`conv_layer`) on your `sample_input`\n",
        "sample_output = conv_layer(sample_input)\n",
        "print(f\"Sample output size: {sample_output.size()}\")"
      ]
    },
    {
      "cell_type": "markdown",
      "metadata": {
        "id": "FelzUP_lwIfH"
      },
      "source": [
        "**Question 2:** Looking at convolution.\n",
        "\n",
        "*   How large of a window size did you use in your model?\n",
        "* What was the dimension size of the output of the model?\n",
        "* What was the dimension size of the input of the model?\n",
        "* Did the size of the image change before and after the convolution?\n",
        "\n"
      ]
    },
    {
      "cell_type": "markdown",
      "metadata": {
        "id": "IONJOvLj3IR5"
      },
      "source": [
        "Put your answers below (double click to edit):\n",
        "\n",
        "**Your answer**:\n",
        "1. 3x3\n",
        "2. 28x28\n",
        "3. 28x28\n",
        "4. no\n",
        "\n",
        "---\n",
        "\n"
      ]
    },
    {
      "cell_type": "markdown",
      "metadata": {
        "id": "fXZXrVQ53XS1"
      },
      "source": [
        "Now, we're ready to build a full CNN model!\n",
        "\n",
        "Convolution lets us learn effectively from images, which are just 2D grids of brightness values. By using kernel windows and testing them out on an input image, the model learns to find patterns in the 2D grid -- making sense of the image.\n",
        "\n",
        "The model can find different types of patterns by testing different kernel windows, and by looking at different size images -- from full-size to shrink. The model's *pooling* lets it look at different size versions of images as it learns, halving the image's dimensions after each pooling operation.\n",
        "\n",
        "Then, the model uses non-linear functions to best find complicated patterns in the image. And repeats it all over again to do the whole process multiple times.\n",
        "\n",
        "**To bring it all together, the total CNN model has 4 key parts:**\n",
        "1. Filter windows to find *distinct* patterns: **convolution**\n",
        "2. Shrinking to find patterns of *different sizes*: **pooling**\n",
        "3. Functions to find *complex* patterns: **non-linear activation functions, like the function called ReLU**\n",
        "4. Repeat!\n",
        "\n",
        "Let's build and look at a CNN that will learn from the MNIST hand-written digit dataset:"
      ]
    },
    {
      "cell_type": "code",
      "execution_count": 5,
      "metadata": {
        "id": "99vuppdY-LfZ"
      },
      "outputs": [],
      "source": [
        "def get_model():\n",
        "  model = nn.Sequential(\n",
        "      nn.Conv2d(in_channels=1, out_channels=24, kernel_size=3, padding='same'),  # (B, 24, 28, 28)\n",
        "      nn.MaxPool2d(stride=2, kernel_size=2),                                     # (B, 24, 14, 14)\n",
        "      nn.ReLU(),\n",
        "\n",
        "      nn.Conv2d(in_channels=24, out_channels=32, kernel_size=3, padding='same'), # (B, 32, 14, 14)\n",
        "      nn.MaxPool2d(stride=2, kernel_size=2),                                     # (B, 32, 7, 7)\n",
        "      nn.ReLU(),\n",
        "\n",
        "      nn.Conv2d(in_channels=32, out_channels=64, kernel_size=3, padding='same'), # (B, 64, 7, 7)\n",
        "      nn.MaxPool2d(stride=2, kernel_size=2),                                     # (B, 64, 3, 3)\n",
        "      nn.ReLU(),\n",
        "\n",
        "      nn.Flatten(),                                                              # (B, 64*3*3)\n",
        "      nn.Linear(in_features=64 * 3 * 3, out_features=64),                        # (B, 64)\n",
        "      nn.ReLU(),\n",
        "      nn.Linear(in_features=64, out_features=10),                               # (B, 10)\n",
        "  )\n",
        "  return model"
      ]
    },
    {
      "cell_type": "markdown",
      "metadata": {
        "id": "8TMfsBUF5BcL"
      },
      "source": [
        "**Question 3:** The CNN\n",
        "\n",
        "* How many times is the filter window, pool, and non-linear function repeated?\n",
        "* How big is the filter window?\n",
        "* How does the size of the image change as it is processed by the model?\n"
      ]
    },
    {
      "cell_type": "markdown",
      "metadata": {
        "id": "pAf-VAcA5lFF"
      },
      "source": [
        "Put your answers below (double click to edit):\n",
        "\n",
        "**Your answer**:\n",
        "1. 3\n",
        "2. 3x3\n",
        "3. it halves\n",
        "---"
      ]
    },
    {
      "cell_type": "markdown",
      "metadata": {
        "id": "ZzeCDh96yWq6"
      },
      "source": [
        "## Part 3: Image Data Augmentation\n",
        "\n",
        "To help our model perform well on images that are different than the training examples, we can make changes -- *augmentations* -- to certain aspects of our image datasets. For example, rotating the digits slightly, so that the network can identify the digit even if it's not perfectly straight!\n",
        "\n",
        "A transformation is a way to define a set change to the image data. PyTorch provides built-in [transforms](https://pytorch.org/vision/stable/transforms.html) for us to choose from and lets us combine transformations together.\n",
        "\n",
        "For example, let's try doing a transform using the `ColorJitter` transform, which randomly changes the brightness and color of an image. Because a transform is random, every time we do the transform, even with the same image, we will get something different out! Let's visualize this with the `ColorJitter` example.\n"
      ]
    },
    {
      "cell_type": "code",
      "execution_count": 6,
      "metadata": {
        "colab": {
          "base_uri": "https://localhost:8080/",
          "height": 114
        },
        "id": "domZxl7ly5l_",
        "outputId": "53eb2724-5f28-497d-9286-519c75d35b34"
      },
      "outputs": [
        {
          "output_type": "display_data",
          "data": {
            "text/plain": [
              "<Figure size 640x480 with 1 Axes>"
            ],
            "image/png": "[encoded data removed]"
          },
          "metadata": {}
        }
      ],
      "source": [
        "# Define a single transformation\n",
        "transform = transforms.ColorJitter(brightness=0.8)\n",
        "\n",
        "# Generate some output transformations, and show results\n",
        "def visualize_transforms(image, T, n=10):\n",
        "  output_transforms = []\n",
        "  for i in range(n):\n",
        "    output = T(image)\n",
        "    output_transforms.append(output[0])\n",
        "\n",
        "  plt.imshow(np.hstack(output_transforms), cmap=plt.cm.binary)\n",
        "visualize_transforms(example_image, transform)"
      ]
    },
    {
      "cell_type": "code",
      "execution_count": 7,
      "metadata": {
        "colab": {
          "base_uri": "https://localhost:8080/",
          "height": 114
        },
        "id": "DlQn8mw5n_bH",
        "outputId": "4ccae6a2-0fd8-4241-ad06-9443eef8d627"
      },
      "outputs": [
        {
          "output_type": "display_data",
          "data": {
            "text/plain": [
              "<Figure size 640x480 with 1 Axes>"
            ],
            "image/png": "[encoded data removed]"
          },
          "metadata": {}
        }
      ],
      "source": [
        "# Define a single transformation\n",
        "transform = transforms.GaussianBlur(kernel_size=21)\n",
        "\n",
        "# Generate some output transformations, and show results\n",
        "def visualize_transforms(image, T, n=10):\n",
        "  output_transforms = []\n",
        "  for i in range(n):\n",
        "    output = T(image)\n",
        "    output_transforms.append(output[0])\n",
        "\n",
        "  plt.imshow(np.hstack(output_transforms), cmap=plt.cm.binary)\n",
        "visualize_transforms(example_image, transform)"
      ]
    },
    {
      "cell_type": "markdown",
      "metadata": {
        "id": "I-RFNkae7M7x"
      },
      "source": [
        "Just like layers in a model, we can layer transformations of our data by composing them together. Let's try combining our previous `ColorJitter` transform with a random rotation transform called `RandomRotation`."
      ]
    },
    {
      "cell_type": "code",
      "execution_count": 8,
      "metadata": {
        "colab": {
          "base_uri": "https://localhost:8080/",
          "height": 114
        },
        "id": "TkR7_QUE0QXh",
        "outputId": "2032be7c-09f9-408f-e1ca-d58262529ad0"
      },
      "outputs": [
        {
          "output_type": "display_data",
          "data": {
            "text/plain": [
              "<Figure size 640x480 with 1 Axes>"
            ],
            "image/png": "[encoded data removed]"
          },
          "metadata": {}
        }
      ],
      "source": [
        "two_transforms = transforms.Compose([\n",
        "    transforms.ColorJitter(brightness=0.8),\n",
        "    transforms.RandomRotation(degrees=20),\n",
        "])\n",
        "\n",
        "visualize_transforms(example_image, two_transforms)"
      ]
    },
    {
      "cell_type": "markdown",
      "metadata": {
        "id": "xapWThFq7dl7"
      },
      "source": [
        "Finally, we can build our final data transform for our MNIST training data. Feel free to add and try out different transforms here to augment your dataset in different ways!\n",
        "\n",
        "After constructing our transform, we have to add it to our dataset to make sure it gets used during training."
      ]
    },
    {
      "cell_type": "code",
      "execution_count": 34,
      "metadata": {
        "id": "fKCDOTb-1Zpi"
      },
      "outputs": [],
      "source": [
        "# Note: to exclude a transform, comment it out with a # before it, ie. #     transforms.RandomRotation(degrees=25),\n",
        "training_transforms = transforms.Compose([transforms.ToTensor()])\n",
        "#     transforms.GaussianBlur(kernel_size=3),\n",
        "#     transforms.RandomRotation(degrees=25),\n",
        "#     # ... TODO: add any more transforms you would like here! ...\n",
        "#     transforms.ToTensor()\n",
        "# ])\n",
        "\n",
        "# Add our transforms to our training dataset so they are used to augment our\n",
        "# dataset during training.\n",
        "training_data.transform = training_transforms"
      ]
    },
    {
      "cell_type": "markdown",
      "metadata": {
        "id": "bNP4s5gBfmJQ"
      },
      "source": [
        "**Question 4:** Data Augmentations\n",
        "\n",
        "* Why do we augment only the training data and not the testing data?\n",
        "* The MNIST data is black and white. If the data were color (RGB), what are some other augmentations we could try?\n"
      ]
    },
    {
      "cell_type": "markdown",
      "metadata": {
        "id": "aH-FfTvV7zHy"
      },
      "source": [
        "Now that we've augmented our dataset, let's build data loaders to grab and augment our data during training and testing."
      ]
    },
    {
      "cell_type": "code",
      "execution_count": 35,
      "metadata": {
        "colab": {
          "base_uri": "https://localhost:8080/"
        },
        "id": "8DtCWIbcFzL2",
        "outputId": "0a991f9f-e0b0-4d05-faa6-f591fe77a10e"
      },
      "outputs": [
        {
          "output_type": "stream",
          "name": "stdout",
          "text": [
            "Using cuda device\n"
          ]
        }
      ],
      "source": [
        "device = \"cuda\" if torch.cuda.is_available() else \"cpu\"\n",
        "print(f\"Using {device} device\")\n",
        "\n",
        "training_dataloader = DataLoader(training_data, batch_size=64, shuffle=True)\n",
        "test_dataloader = DataLoader(test_data, batch_size=64, shuffle=True)"
      ]
    },
    {
      "cell_type": "markdown",
      "metadata": {
        "id": "BZ-Wo0LLZqL1"
      },
      "source": [
        "# Part 4: Training and Hyperarameters"
      ]
    },
    {
      "cell_type": "code",
      "execution_count": 21,
      "metadata": {
        "id": "ikuJkZYQFf--"
      },
      "outputs": [],
      "source": [
        "#@title Define training and testing operations\n",
        "\n",
        "def train(model, optimizer, dataloader, epoch):\n",
        "  # set model to train mode\n",
        "  model.train()\n",
        "  avg_loss = 0\n",
        "  correct = 0\n",
        "  for batch_idx, (image, label) in enumerate(tqdm(dataloader)):\n",
        "    image = image.to(device)\n",
        "    label = label.to(device)\n",
        "    # reset optimizer\n",
        "    optimizer.zero_grad()\n",
        "    # get output\n",
        "    output = model(image)\n",
        "    # compute loss\n",
        "    loss = nn.CrossEntropyLoss()(output, label)\n",
        "    # run backpropagation to compute gradient of loss with respect to parameters\n",
        "    loss.backward()\n",
        "    # adjust parameters in opposite direction as gradient\n",
        "    optimizer.step()\n",
        "\n",
        "    # debugging values\n",
        "    avg_loss += loss.item() * label.size(0)\n",
        "    correct += (output.argmax(1) == label).float().sum().item()\n",
        "    if batch_idx % 100 == 0:\n",
        "      print(f\"Epoch {epoch} training loss: {loss.item():4f}\")\n",
        "\n",
        "  avg_loss /= len(dataloader.dataset)\n",
        "  correct /= len(dataloader.dataset)\n",
        "  print(f\"\\nEpoch {epoch} training accuracy: {100 * correct :4f}%, Epoch {epoch} avg loss: {avg_loss :4f}\\n\")\n",
        "\n",
        "def test(model, dataloader, epoch):\n",
        "  # set model to evaluation mode\n",
        "  model.eval()\n",
        "  avg_loss = 0\n",
        "  correct = 0\n",
        "  for batch_idx, (image, label) in enumerate(tqdm(dataloader)):\n",
        "    image = image.to(device)\n",
        "    label = label.to(device)\n",
        "    # get output\n",
        "    output = model(image)\n",
        "    # compute loss\n",
        "    loss = nn.CrossEntropyLoss()(output, label)\n",
        "\n",
        "    # debugging values\n",
        "    avg_loss += loss.item() * label.size(0)\n",
        "    correct += (output.argmax(1) == label).float().sum().item()\n",
        "    if batch_idx % 100 == 0:\n",
        "      print(f\"Epoch {epoch} test loss: {loss.item():4f}\")\n",
        "\n",
        "  avg_loss /= len(dataloader.dataset)\n",
        "  correct /= len(dataloader.dataset)\n",
        "  print(f\"\\nEpoch {epoch} test accuracy: {100 * correct :4f}%, avg loss: {avg_loss :4f}\\n\")\n",
        "  return (avg_loss, correct)"
      ]
    },
    {
      "cell_type": "markdown",
      "metadata": {
        "id": "vbdKA0oM8NTS"
      },
      "source": [
        "Now with our new and improved image CNN model along with our data augmentation pipeline, let's retrain our model from Lab 3 with these new improvements and check out our results!\n",
        "\n",
        "Try changing the hyperparameters and seeing how the behaviour during training and the graphs of loss and accuracy change. Can you find a sweet spot?"
      ]
    },
    {
      "cell_type": "code",
      "execution_count": 39,
      "metadata": {
        "id": "rr72Zd9cW4sp"
      },
      "outputs": [],
      "source": [
        "learning_rate = 1e-3 # 1e-4 # TODO: Try changing the learning rate\n",
        "\n",
        "num_epochs = 3 # TODO: Try changing the number of epochs"
      ]
    },
    {
      "cell_type": "code",
      "execution_count": 40,
      "metadata": {
        "colab": {
          "base_uri": "https://localhost:8080/",
          "height": 1000
        },
        "id": "BjYdAWZ6FfoP",
        "outputId": "b77ebc1f-d414-4934-98f5-f2627403c0eb"
      },
      "outputs": [
        {
          "output_type": "stream",
          "name": "stderr",
          "text": [
            "  2%|▏         | 21/938 [00:00<00:09, 99.02it/s]"
          ]
        },
        {
          "output_type": "stream",
          "name": "stdout",
          "text": [
            "Epoch 0 training loss: 2.303353\n"
          ]
        },
        {
          "output_type": "stream",
          "name": "stderr",
          "text": [
            " 13%|█▎        | 118/938 [00:01<00:08, 99.30it/s] "
          ]
        },
        {
          "output_type": "stream",
          "name": "stdout",
          "text": [
            "Epoch 0 training loss: 0.167251\n"
          ]
        },
        {
          "output_type": "stream",
          "name": "stderr",
          "text": [
            " 22%|██▏       | 211/938 [00:02<00:07, 98.09it/s]"
          ]
        },
        {
          "output_type": "stream",
          "name": "stdout",
          "text": [
            "Epoch 0 training loss: 0.086006\n"
          ]
        },
        {
          "output_type": "stream",
          "name": "stderr",
          "text": [
            " 34%|███▎      | 315/938 [00:03<00:06, 98.28it/s]"
          ]
        },
        {
          "output_type": "stream",
          "name": "stdout",
          "text": [
            "Epoch 0 training loss: 0.048435\n"
          ]
        },
        {
          "output_type": "stream",
          "name": "stderr",
          "text": [
            " 45%|████▍     | 418/938 [00:04<00:05, 100.75it/s]"
          ]
        },
        {
          "output_type": "stream",
          "name": "stdout",
          "text": [
            "Epoch 0 training loss: 0.055555\n"
          ]
        },
        {
          "output_type": "stream",
          "name": "stderr",
          "text": [
            " 55%|█████▌    | 520/938 [00:05<00:04, 97.21it/s]"
          ]
        },
        {
          "output_type": "stream",
          "name": "stdout",
          "text": [
            "Epoch 0 training loss: 0.059979\n"
          ]
        },
        {
          "output_type": "stream",
          "name": "stderr",
          "text": [
            " 65%|██████▍   | 606/938 [00:06<00:06, 54.97it/s]"
          ]
        },
        {
          "output_type": "stream",
          "name": "stdout",
          "text": [
            "Epoch 0 training loss: 0.172729\n"
          ]
        },
        {
          "output_type": "stream",
          "name": "stderr",
          "text": [
            " 77%|███████▋  | 720/938 [00:08<00:02, 83.41it/s]"
          ]
        },
        {
          "output_type": "stream",
          "name": "stdout",
          "text": [
            "Epoch 0 training loss: 0.062773\n"
          ]
        },
        {
          "output_type": "stream",
          "name": "stderr",
          "text": [
            " 87%|████████▋ | 813/938 [00:09<00:01, 99.16it/s]"
          ]
        },
        {
          "output_type": "stream",
          "name": "stdout",
          "text": [
            "Epoch 0 training loss: 0.222100\n"
          ]
        },
        {
          "output_type": "stream",
          "name": "stderr",
          "text": [
            " 98%|█████████▊| 920/938 [00:10<00:00, 100.34it/s]"
          ]
        },
        {
          "output_type": "stream",
          "name": "stdout",
          "text": [
            "Epoch 0 training loss: 0.161616\n"
          ]
        },
        {
          "output_type": "stream",
          "name": "stderr",
          "text": [
            "100%|██████████| 938/938 [00:11<00:00, 84.67it/s] \n"
          ]
        },
        {
          "output_type": "stream",
          "name": "stdout",
          "text": [
            "\n",
            "Epoch 0 training accuracy: 93.735000%, Epoch 0 avg loss: 0.191888\n",
            "\n"
          ]
        },
        {
          "output_type": "stream",
          "name": "stderr",
          "text": [
            "  9%|▉         | 14/157 [00:00<00:01, 132.26it/s]"
          ]
        },
        {
          "output_type": "stream",
          "name": "stdout",
          "text": [
            "Epoch 0 test loss: 0.085796\n"
          ]
        },
        {
          "output_type": "stream",
          "name": "stderr",
          "text": [
            " 79%|███████▉  | 124/157 [00:00<00:00, 127.08it/s]"
          ]
        },
        {
          "output_type": "stream",
          "name": "stdout",
          "text": [
            "Epoch 0 test loss: 0.084694\n"
          ]
        },
        {
          "output_type": "stream",
          "name": "stderr",
          "text": [
            "100%|██████████| 157/157 [00:01<00:00, 128.88it/s]\n"
          ]
        },
        {
          "output_type": "stream",
          "name": "stdout",
          "text": [
            "\n",
            "Epoch 0 test accuracy: 97.490000%, avg loss: 0.077832\n",
            "\n"
          ]
        },
        {
          "output_type": "stream",
          "name": "stderr",
          "text": [
            "  1%|          | 10/938 [00:00<00:09, 95.37it/s]"
          ]
        },
        {
          "output_type": "stream",
          "name": "stdout",
          "text": [
            "Epoch 1 training loss: 0.013313\n"
          ]
        },
        {
          "output_type": "stream",
          "name": "stderr",
          "text": [
            " 12%|█▏        | 115/938 [00:01<00:08, 96.54it/s]"
          ]
        },
        {
          "output_type": "stream",
          "name": "stdout",
          "text": [
            "Epoch 1 training loss: 0.019346\n"
          ]
        },
        {
          "output_type": "stream",
          "name": "stderr",
          "text": [
            " 23%|██▎       | 219/938 [00:02<00:07, 99.36it/s]"
          ]
        },
        {
          "output_type": "stream",
          "name": "stdout",
          "text": [
            "Epoch 1 training loss: 0.116638\n"
          ]
        },
        {
          "output_type": "stream",
          "name": "stderr",
          "text": [
            " 33%|███▎      | 312/938 [00:03<00:06, 99.12it/s]"
          ]
        },
        {
          "output_type": "stream",
          "name": "stdout",
          "text": [
            "Epoch 1 training loss: 0.020050\n"
          ]
        },
        {
          "output_type": "stream",
          "name": "stderr",
          "text": [
            " 44%|████▍     | 415/938 [00:04<00:05, 93.49it/s]"
          ]
        },
        {
          "output_type": "stream",
          "name": "stdout",
          "text": [
            "Epoch 1 training loss: 0.217484\n"
          ]
        },
        {
          "output_type": "stream",
          "name": "stderr",
          "text": [
            " 55%|█████▌    | 520/938 [00:05<00:04, 98.76it/s]"
          ]
        },
        {
          "output_type": "stream",
          "name": "stdout",
          "text": [
            "Epoch 1 training loss: 0.191278\n"
          ]
        },
        {
          "output_type": "stream",
          "name": "stderr",
          "text": [
            " 65%|██████▌   | 614/938 [00:06<00:03, 89.76it/s]"
          ]
        },
        {
          "output_type": "stream",
          "name": "stdout",
          "text": [
            "Epoch 1 training loss: 0.114772\n"
          ]
        },
        {
          "output_type": "stream",
          "name": "stderr",
          "text": [
            " 76%|███████▌  | 714/938 [00:07<00:03, 73.93it/s]"
          ]
        },
        {
          "output_type": "stream",
          "name": "stdout",
          "text": [
            "Epoch 1 training loss: 0.054179\n"
          ]
        },
        {
          "output_type": "stream",
          "name": "stderr",
          "text": [
            " 87%|████████▋ | 814/938 [00:09<00:01, 87.21it/s]"
          ]
        },
        {
          "output_type": "stream",
          "name": "stdout",
          "text": [
            "Epoch 1 training loss: 0.062549\n"
          ]
        },
        {
          "output_type": "stream",
          "name": "stderr",
          "text": [
            " 98%|█████████▊| 917/938 [00:10<00:00, 98.59it/s]"
          ]
        },
        {
          "output_type": "stream",
          "name": "stdout",
          "text": [
            "Epoch 1 training loss: 0.098666\n"
          ]
        },
        {
          "output_type": "stream",
          "name": "stderr",
          "text": [
            "100%|██████████| 938/938 [00:10<00:00, 91.28it/s]\n"
          ]
        },
        {
          "output_type": "stream",
          "name": "stdout",
          "text": [
            "\n",
            "Epoch 1 training accuracy: 97.636667%, Epoch 1 avg loss: 0.079665\n",
            "\n"
          ]
        },
        {
          "output_type": "stream",
          "name": "stderr",
          "text": [
            "  8%|▊         | 13/157 [00:00<00:01, 125.86it/s]"
          ]
        },
        {
          "output_type": "stream",
          "name": "stdout",
          "text": [
            "Epoch 1 test loss: 0.040887\n"
          ]
        },
        {
          "output_type": "stream",
          "name": "stderr",
          "text": [
            " 75%|███████▌  | 118/157 [00:00<00:00, 126.51it/s]"
          ]
        },
        {
          "output_type": "stream",
          "name": "stdout",
          "text": [
            "Epoch 1 test loss: 0.236913\n"
          ]
        },
        {
          "output_type": "stream",
          "name": "stderr",
          "text": [
            "100%|██████████| 157/157 [00:01<00:00, 126.72it/s]\n"
          ]
        },
        {
          "output_type": "stream",
          "name": "stdout",
          "text": [
            "\n",
            "Epoch 1 test accuracy: 98.250000%, avg loss: 0.056188\n",
            "\n"
          ]
        },
        {
          "output_type": "stream",
          "name": "stderr",
          "text": [
            "  1%|          | 9/938 [00:00<00:10, 87.99it/s]"
          ]
        },
        {
          "output_type": "stream",
          "name": "stdout",
          "text": [
            "Epoch 2 training loss: 0.038505\n"
          ]
        },
        {
          "output_type": "stream",
          "name": "stderr",
          "text": [
            " 12%|█▏        | 117/938 [00:01<00:08, 97.12it/s] "
          ]
        },
        {
          "output_type": "stream",
          "name": "stdout",
          "text": [
            "Epoch 2 training loss: 0.049241\n"
          ]
        },
        {
          "output_type": "stream",
          "name": "stderr",
          "text": [
            " 23%|██▎       | 220/938 [00:02<00:07, 98.71it/s]"
          ]
        },
        {
          "output_type": "stream",
          "name": "stdout",
          "text": [
            "Epoch 2 training loss: 0.003287\n"
          ]
        },
        {
          "output_type": "stream",
          "name": "stderr",
          "text": [
            " 33%|███▎      | 311/938 [00:03<00:06, 93.64it/s]"
          ]
        },
        {
          "output_type": "stream",
          "name": "stdout",
          "text": [
            "Epoch 2 training loss: 0.025009\n"
          ]
        },
        {
          "output_type": "stream",
          "name": "stderr",
          "text": [
            " 44%|████▍     | 415/938 [00:04<00:05, 96.85it/s]"
          ]
        },
        {
          "output_type": "stream",
          "name": "stdout",
          "text": [
            "Epoch 2 training loss: 0.030107\n"
          ]
        },
        {
          "output_type": "stream",
          "name": "stderr",
          "text": [
            " 54%|█████▍    | 511/938 [00:05<00:04, 97.25it/s]"
          ]
        },
        {
          "output_type": "stream",
          "name": "stdout",
          "text": [
            "Epoch 2 training loss: 0.035234\n"
          ]
        },
        {
          "output_type": "stream",
          "name": "stderr",
          "text": [
            " 65%|██████▌   | 611/938 [00:06<00:03, 94.48it/s]"
          ]
        },
        {
          "output_type": "stream",
          "name": "stdout",
          "text": [
            "Epoch 2 training loss: 0.120600\n"
          ]
        },
        {
          "output_type": "stream",
          "name": "stderr",
          "text": [
            " 76%|███████▌  | 711/938 [00:07<00:02, 76.75it/s]"
          ]
        },
        {
          "output_type": "stream",
          "name": "stdout",
          "text": [
            "Epoch 2 training loss: 0.102560\n"
          ]
        },
        {
          "output_type": "stream",
          "name": "stderr",
          "text": [
            " 86%|████████▌ | 809/938 [00:08<00:01, 71.40it/s]"
          ]
        },
        {
          "output_type": "stream",
          "name": "stdout",
          "text": [
            "Epoch 2 training loss: 0.008008\n"
          ]
        },
        {
          "output_type": "stream",
          "name": "stderr",
          "text": [
            " 97%|█████████▋| 913/938 [00:10<00:00, 93.96it/s]"
          ]
        },
        {
          "output_type": "stream",
          "name": "stdout",
          "text": [
            "Epoch 2 training loss: 0.045149\n"
          ]
        },
        {
          "output_type": "stream",
          "name": "stderr",
          "text": [
            "100%|██████████| 938/938 [00:10<00:00, 90.93it/s]\n"
          ]
        },
        {
          "output_type": "stream",
          "name": "stdout",
          "text": [
            "\n",
            "Epoch 2 training accuracy: 97.718333%, Epoch 2 avg loss: 0.076849\n",
            "\n"
          ]
        },
        {
          "output_type": "stream",
          "name": "stderr",
          "text": [
            "  8%|▊         | 12/157 [00:00<00:01, 119.46it/s]"
          ]
        },
        {
          "output_type": "stream",
          "name": "stdout",
          "text": [
            "Epoch 2 test loss: 0.243327\n"
          ]
        },
        {
          "output_type": "stream",
          "name": "stderr",
          "text": [
            " 77%|███████▋  | 121/157 [00:00<00:00, 127.22it/s]"
          ]
        },
        {
          "output_type": "stream",
          "name": "stdout",
          "text": [
            "Epoch 2 test loss: 0.078107\n"
          ]
        },
        {
          "output_type": "stream",
          "name": "stderr",
          "text": [
            "100%|██████████| 157/157 [00:01<00:00, 126.97it/s]\n"
          ]
        },
        {
          "output_type": "stream",
          "name": "stdout",
          "text": [
            "\n",
            "Epoch 2 test accuracy: 97.550000%, avg loss: 0.079693\n",
            "\n"
          ]
        },
        {
          "output_type": "display_data",
          "data": {
            "text/plain": [
              "<Figure size 640x480 with 1 Axes>"
            ],
            "image/png": "[encoded data removed]"
          },
          "metadata": {}
        },
        {
          "output_type": "display_data",
          "data": {
            "text/plain": [
              "<Figure size 640x480 with 1 Axes>"
            ],
            "image/png": "[encoded data removed]"
          },
          "metadata": {}
        }
      ],
      "source": [
        "# Create the optimizer\n",
        "model = get_model()\n",
        "optimizer = torch.optim.Adam(model.parameters(), lr=learning_rate)\n",
        "\n",
        "model.to(device)\n",
        "\n",
        "# We use these to store the loss and accuracy to plot them later\n",
        "losses, accs = [], []\n",
        "\n",
        "for i in range(num_epochs):\n",
        "  train(model, optimizer, training_dataloader, i)\n",
        "  loss, acc = test(model, test_dataloader, i)\n",
        "  losses.append(loss)\n",
        "  accs.append(acc)\n",
        "\n",
        "# Plotting\n",
        "plt.plot(losses)\n",
        "plt.ylabel(\"Average loss\")\n",
        "plt.xlabel(\"Epoch\")\n",
        "plt.show()\n",
        "\n",
        "plt.plot(accs)\n",
        "plt.ylabel(\"Test accuracy\")\n",
        "plt.xlabel(\"Epoch\")\n",
        "plt.show()"
      ]
    },
    {
      "cell_type": "markdown",
      "metadata": {
        "id": "Gm92qIRwgJyc"
      },
      "source": [
        "**Question 5:** CNN Performance & Experiments\n",
        "\n",
        "* Train a model with just color transform, gausian transform, and rotation transform. Then train a model with all three transforms. Which augmentations help more than others for training and performance? Note: you can use 3 epochs for each experiment and compare the results, it should take around 4 minutes to run each experiment if the GPU is being used.\n",
        "* Train the CNN without augmentation. How much does performance improve after augmentation?\n",
        "* Compare the results to the baseline neural network model from the previous lab. How much better is the performance of the CNNs compared to the baseline neural network model?\n",
        "* Try changing some part of the CNN model, such as the in_channels / out_channels, or the number of layers. How does the performance change?\n",
        "* Competition time! Try to get the best performance on the test set. You can change anything including learning rate, number of epochs, model size, augmentation, etc..."
      ]
    },
    {
      "cell_type": "markdown",
      "metadata": {
        "id": "1fWzWSyFTm_x"
      },
      "source": [
        "Congratulations on significantly improving the performance of your image model!! 🎊"
      ]
    },
    {
      "cell_type": "markdown",
      "source": [
        "3 epochs, learning_rate = 1e-4\n",
        "augmentation type | training accuracy | test accuracy\n",
        "---\n",
        "color transform (contrast=0.5, brightness=0.5) | 94.76% | 95.77%\n",
        "---\n",
        "gausian transform (kernel_size=3) | 95.51% | 96.82%\n",
        "---\n",
        "rotation transfrom (degrees=25) | 93.79% | 96.29%\n",
        "---\n",
        "without augmentation | 96.14% | 97.02%\n",
        "---\n",
        "lr = 1e-3 | 98.45% | 98.65%\n",
        "---"
      ],
      "metadata": {
        "id": "lFrgTvc2vMO8"
      }
    }
  ],
  "metadata": {
    "accelerator": "GPU",
    "colab": {
      "provenance": []
    },
    "gpuClass": "standard",
    "kernelspec": {
      "display_name": "Python 3",
      "name": "python3"
    },
    "language_info": {
      "name": "python"
    }
  },
  "nbformat": 4,
  "nbformat_minor": 0
}