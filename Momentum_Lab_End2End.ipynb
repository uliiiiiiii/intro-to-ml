{
  "cells": [
    {
      "cell_type": "markdown",
      "metadata": {
        "id": "view-in-github",
        "colab_type": "text"
      },
      "source": [
        "<a href=\"https://colab.research.google.com/github/uliiiiiiii/intro-to-ml/blob/main/Momentum_Lab_End2End.ipynb\" target=\"_parent\"><img src=\"https://colab.research.google.com/assets/colab-badge.svg\" alt=\"Open In Colab\"/></a>"
      ]
    },
    {
      "cell_type": "markdown",
      "metadata": {
        "id": "kbeeyZzNNjD0"
      },
      "source": [
        "# Lab 4: Learning from Image Data\n",
        "\n",
        "## Part 0: Getting Started\n",
        "\n",
        "Like in Lab 3, we will be using [PyTorch](https://pytorch.org/) to create and use neural network models without having to do any of the math ourselves. PyTorch runs all the math in the background so that we can focus on the inputs and outputs to the neural network model.\n"
      ]
    },
    {
      "cell_type": "code",
      "execution_count": null,
      "metadata": {
        "id": "cbOrLdAqtyfM"
      },
      "outputs": [],
      "source": [
        "#@title Installation\n",
        "\n",
        "import torch\n",
        "from torch import nn\n",
        "from torch.utils.data import DataLoader\n",
        "from torchvision import datasets, transforms\n",
        "import numpy as np\n",
        "from matplotlib import pyplot as plt\n",
        "from tqdm import tqdm"
      ]
    },
    {
      "cell_type": "markdown",
      "metadata": {
        "id": "PRk4zCj6ODid"
      },
      "source": [
        "Building off the last lab, you will build a computer program that can look at black-and-white images of hand-written digits and automatically recognize what number (0-9) is there. Like before, we will use the **MNIST** dataset of images of hand-written digits, and split into *training* data and *test* data.\n",
        "\n",
        "To refresh, remember that the model learns to model the *training* data. The *trained* model is then applied to new data, called *test* data, which is used to test how well the model does.\n",
        "\n",
        "First we will download the MNIST data!"
      ]
    },
    {
      "cell_type": "code",
      "execution_count": null,
      "metadata": {
        "colab": {
          "base_uri": "https://localhost:8080/"
        },
        "id": "JN5Uw7PSt-P0",
        "outputId": "01ce9446-025f-4388-f0ca-5a4747073b8e"
      },
      "outputs": [
        {
          "output_type": "stream",
          "name": "stdout",
          "text": [
            "Downloading http://yann.lecun.com/exdb/mnist/train-images-idx3-ubyte.gz\n",
            "Failed to download (trying next):\n",
            "HTTP Error 503: Service Unavailable\n",
            "\n",
            "Downloading https://ossci-datasets.s3.amazonaws.com/mnist/train-images-idx3-ubyte.gz\n",
            "Downloading https://ossci-datasets.s3.amazonaws.com/mnist/train-images-idx3-ubyte.gz to ./data/MNIST/raw/train-images-idx3-ubyte.gz\n"
          ]
        },
        {
          "output_type": "stream",
          "name": "stderr",
          "text": [
            "100%|██████████| 9912422/9912422 [00:00<00:00, 18170988.04it/s]\n"
          ]
        },
        {
          "output_type": "stream",
          "name": "stdout",
          "text": [
            "Extracting ./data/MNIST/raw/train-images-idx3-ubyte.gz to ./data/MNIST/raw\n",
            "\n",
            "Downloading http://yann.lecun.com/exdb/mnist/train-labels-idx1-ubyte.gz\n",
            "Failed to download (trying next):\n",
            "HTTP Error 503: Service Unavailable\n",
            "\n",
            "Downloading https://ossci-datasets.s3.amazonaws.com/mnist/train-labels-idx1-ubyte.gz\n",
            "Downloading https://ossci-datasets.s3.amazonaws.com/mnist/train-labels-idx1-ubyte.gz to ./data/MNIST/raw/train-labels-idx1-ubyte.gz\n"
          ]
        },
        {
          "output_type": "stream",
          "name": "stderr",
          "text": [
            "100%|██████████| 28881/28881 [00:00<00:00, 496358.08it/s]\n"
          ]
        },
        {
          "output_type": "stream",
          "name": "stdout",
          "text": [
            "Extracting ./data/MNIST/raw/train-labels-idx1-ubyte.gz to ./data/MNIST/raw\n",
            "\n",
            "Downloading http://yann.lecun.com/exdb/mnist/t10k-images-idx3-ubyte.gz\n",
            "Failed to download (trying next):\n",
            "HTTP Error 503: Service Unavailable\n",
            "\n",
            "Downloading https://ossci-datasets.s3.amazonaws.com/mnist/t10k-images-idx3-ubyte.gz\n",
            "Downloading https://ossci-datasets.s3.amazonaws.com/mnist/t10k-images-idx3-ubyte.gz to ./data/MNIST/raw/t10k-images-idx3-ubyte.gz\n"
          ]
        },
        {
          "output_type": "stream",
          "name": "stderr",
          "text": [
            "100%|██████████| 1648877/1648877 [00:00<00:00, 4523626.05it/s]\n"
          ]
        },
        {
          "output_type": "stream",
          "name": "stdout",
          "text": [
            "Extracting ./data/MNIST/raw/t10k-images-idx3-ubyte.gz to ./data/MNIST/raw\n",
            "\n",
            "Downloading http://yann.lecun.com/exdb/mnist/t10k-labels-idx1-ubyte.gz\n",
            "Failed to download (trying next):\n",
            "HTTP Error 503: Service Unavailable\n",
            "\n",
            "Downloading https://ossci-datasets.s3.amazonaws.com/mnist/t10k-labels-idx1-ubyte.gz\n",
            "Downloading https://ossci-datasets.s3.amazonaws.com/mnist/t10k-labels-idx1-ubyte.gz to ./data/MNIST/raw/t10k-labels-idx1-ubyte.gz\n"
          ]
        },
        {
          "output_type": "stream",
          "name": "stderr",
          "text": [
            "100%|██████████| 4542/4542 [00:00<00:00, 4206343.29it/s]"
          ]
        },
        {
          "output_type": "stream",
          "name": "stdout",
          "text": [
            "Extracting ./data/MNIST/raw/t10k-labels-idx1-ubyte.gz to ./data/MNIST/raw\n",
            "\n"
          ]
        },
        {
          "output_type": "stream",
          "name": "stderr",
          "text": [
            "\n"
          ]
        }
      ],
      "source": [
        "#@title Download MNIST data\n",
        "\n",
        "training_data = datasets.MNIST(\"./data\", train=True, download=True,\n",
        "      transform=transforms.ToTensor(),\n",
        ")\n",
        "test_data = datasets.MNIST(\"./data\", train=False, download=True,\n",
        "      transform=transforms.ToTensor(),\n",
        ")"
      ]
    },
    {
      "cell_type": "markdown",
      "metadata": {
        "id": "kpTTmh7IWTXR"
      },
      "source": [
        "Each item in MNIST is a pair -- the image of the hand-written digit, and the true value of the digit, 0-9. This true value is called the *label*.\n",
        "\n",
        "```\n",
        "(image, label)\n",
        "```\n",
        "\n",
        "Each image is a 28 x 28 grid of values from 0 - 1. These values show how bright the image is at each spot in the grid. 1 is the brightest, white, and 0 is the darkest, black. The *label* tells us which number, 0-9, is made by the brightness values in the grid."
      ]
    },
    {
      "cell_type": "markdown",
      "metadata": {
        "id": "Zpb0G_WrXSLM"
      },
      "source": [
        "## Part 1: 2D Image Models\n",
        "\n",
        "In the last lab, the computer model that you built did not actually treat images for what they are: a 2D grid of brightness values. Here we will build a special type of neural network, called a CNN: a Convolutional Neural Network.\n",
        "\n",
        "CNNs are very similar to the neural networks you used in Lab 3. But, they are specially designed to be good at understanding what's in images. This is because CNNs process data that has values along both a height and a width -- just like images.\n",
        "\n",
        "Images are made up of pixels, the brightness and color values for each spot in the image grid, can be black-and-white or color. Color images have three distinct color values, called *channels*: Red, Green, and Blue (RGB)."
      ]
    },
    {
      "cell_type": "markdown",
      "metadata": {
        "id": "UNqa56FS1Ae-"
      },
      "source": [
        "**Question 1:** Let's consider the information in an image.\n",
        "\n",
        "*   How many channels do color images have? What are their values or colors?\n",
        "* How many channels do you think black-and-white images have? What do the values in each of these channels mean?"
      ]
    },
    {
      "cell_type": "markdown",
      "metadata": {
        "id": "Jl-T07qO1azn"
      },
      "source": [
        "Put your answers below (double click to edit):\n",
        "\n",
        "**Your answer**:\n",
        "\n",
        "---"
      ]
    },
    {
      "cell_type": "markdown",
      "metadata": {
        "id": "rug2-jFY1pp3"
      },
      "source": [
        "Because images are 2D grids, we can learn from them in a special way. We will use a small window, called a *filter* or *kernel*, that can help detect changes in the brightness values of the image. This method is called *convolution* -- giving us the name of Convolutional Neural Networks (CNNs). **Our model will help us learn the best filters for understanding the images in our dataset.**"
      ]
    },
    {
      "cell_type": "markdown",
      "metadata": {
        "id": "ZUTk--9D2Gsw"
      },
      "source": [
        "Let's build a convolution operation that uses a small, 3x3 filter to detect changes in an input image. This will let us define a layer to our CNN network:"
      ]
    },
    {
      "cell_type": "code",
      "execution_count": null,
      "metadata": {
        "colab": {
          "base_uri": "https://localhost:8080/"
        },
        "id": "lc01PsNO6LtY",
        "outputId": "f9fecc10-c85a-4d08-89c1-756f461aed7a"
      },
      "outputs": [
        {
          "output_type": "stream",
          "name": "stdout",
          "text": [
            "Each image in the dataset is 1 channel and has (height, width) of (28, 28)\n",
            "Sample input size:  torch.Size([100, 1, 28, 28])\n",
            "Sample output size: torch.Size([100, 32, 28, 28])\n"
          ]
        }
      ],
      "source": [
        "### CONVOLUTION ###\n",
        "\n",
        "example_image = training_data[0][0]\n",
        "channels, height, width = example_image.shape\n",
        "print(f\"Each image in the dataset is {channels} channel and has (height, width) of ({height}, {width})\")\n",
        "\n",
        "# Let's try feeding through a random image into a convolutional layer\n",
        "# 1. Create a random sample image input\n",
        "B = 100\n",
        "sample_input = torch.rand((B, channels, height, width))\n",
        "print(f\"Sample input size:  {sample_input.size()}\")\n",
        "\n",
        "# 2. Define a 2D convolutional layer for the images (Hint: use nn.Conv2D)\n",
        "#    Define your layer to have a kernel size of 3 and output 32 channels.\n",
        "conv_layer = nn.Conv2d(\n",
        "              in_channels=channels,\n",
        "              out_channels=32,\n",
        "              kernel_size=4,\n",
        "              padding='same'\n",
        ")\n",
        "\n",
        "# 3. Call your convolutional layer (`conv_layer`) on your `sample_input`\n",
        "sample_output = conv_layer(sample_input)\n",
        "print(f\"Sample output size: {sample_output.size()}\")"
      ]
    },
    {
      "cell_type": "markdown",
      "metadata": {
        "id": "FelzUP_lwIfH"
      },
      "source": [
        "**Question 2:** Looking at convolution.\n",
        "\n",
        "*   How large of a window size did you use in your model?\n",
        "* What was the dimension size of the output of the model?\n",
        "* What was the dimension size of the input of the model?\n",
        "* Did the size of the image change before and after the convolution?\n",
        "\n"
      ]
    },
    {
      "cell_type": "markdown",
      "metadata": {
        "id": "IONJOvLj3IR5"
      },
      "source": [
        "Put your answers below (double click to edit):\n",
        "\n",
        "**Your answer**:\n",
        "\n",
        "---\n",
        "\n"
      ]
    },
    {
      "cell_type": "markdown",
      "metadata": {
        "id": "fXZXrVQ53XS1"
      },
      "source": [
        "Now, we're ready to build a full CNN model!\n",
        "\n",
        "Convolution lets us learn effectively from images, which are just 2D grids of brightness values. By using kernel windows and testing them out on an input image, the model learns to find patterns in the 2D grid -- making sense of the image.\n",
        "\n",
        "The model can find different types of patterns by testing different kernel windows, and by looking at different size images -- from full-size to shrink. The model's *pooling* lets it look at different size versions of images as it learns, halving the image's dimensions after each pooling operation.\n",
        "\n",
        "Then, the model uses non-linear functions to best find complicated patterns in the image. And repeats it all over again to do the whole process multiple times.\n",
        "\n",
        "To bring it all together, the total CNN model has 4 key parts:\n",
        "1. Filter windows to find *distinct* patterns: convolution\n",
        "2. Shrinking to find patterns of *different sizes*: pooling\n",
        "3. Functions to find *complex* patterns: non-linear activation functions, like the function called ReLU\n",
        "4. Repeat!\n",
        "\n",
        "Let's build and look at a CNN that will learn from the MNIST hand-written digit dataset:"
      ]
    },
    {
      "cell_type": "code",
      "execution_count": null,
      "metadata": {
        "id": "99vuppdY-LfZ"
      },
      "outputs": [],
      "source": [
        "def get_model():\n",
        "  model = nn.Sequential(\n",
        "      nn.Conv2d(in_channels=1, out_channels=24, kernel_size=3, padding='same'),  # (B, 24, 28, 28)\n",
        "      nn.MaxPool2d(stride=2, kernel_size=2),                                     # (B, 24, 14, 14)\n",
        "      nn.ReLU(),\n",
        "\n",
        "      nn.Conv2d(in_channels=24, out_channels=32, kernel_size=3, padding='same'), # (B, 32, 14, 14)\n",
        "      nn.MaxPool2d(stride=2, kernel_size=2),                                     # (B, 32, 7, 7)\n",
        "      nn.ReLU(),\n",
        "\n",
        "      nn.Conv2d(in_channels=32, out_channels=64, kernel_size=3, padding='same'), # (B, 64, 7, 7)\n",
        "      nn.MaxPool2d(stride=2, kernel_size=2),                                     # (B, 64, 3, 3)\n",
        "      nn.ReLU(),\n",
        "\n",
        "      nn.Flatten(),                                                              # (B, 64*3*3)\n",
        "      nn.Linear(in_features=64 * 3 * 3, out_features=64),                        # (B, 64)\n",
        "      nn.ReLU(),\n",
        "      nn.Linear(in_features=64, out_features=10),                               # (B, 10)\n",
        "  )\n",
        "  return model"
      ]
    },
    {
      "cell_type": "markdown",
      "metadata": {
        "id": "8TMfsBUF5BcL"
      },
      "source": [
        "**Question 3:** The CNN\n",
        "\n",
        "* How many times is the filter window, pool, and non-linear function repeated?\n",
        "* How big is the filter window?\n",
        "* How does the size of the image change as it is processed by the model?\n"
      ]
    },
    {
      "cell_type": "markdown",
      "metadata": {
        "id": "pAf-VAcA5lFF"
      },
      "source": [
        "Put your answers below (double click to edit):\n",
        "\n",
        "**Your answer**:\n",
        "\n",
        "---"
      ]
    },
    {
      "cell_type": "markdown",
      "metadata": {
        "id": "ZzeCDh96yWq6"
      },
      "source": [
        "## Part 3: Image Data Augmentation\n",
        "\n",
        "To help our model perform well on images that are different than the training examples, we can make changes -- *augmentations* -- to certain aspects of our image datasets. For example, rotating the digits slightly, so that the network can identify the digit even if it's not perfectly straight!\n",
        "\n",
        "A transformation is a way to define a set change to the image data. PyTorch provides built-in [transforms](https://pytorch.org/vision/stable/transforms.html) for us to choose from and lets us combine transformations together.\n",
        "\n",
        "For example, let's try doing a transform using the `ColorJitter` transform, which randomly changes the brightness and color of an image. Because a transform is random, every time we do the transform, even with the same image, we will get something different out! Let's visualize this with the `ColorJitter` example.\n"
      ]
    },
    {
      "cell_type": "code",
      "execution_count": null,
      "metadata": {
        "colab": {
          "base_uri": "https://localhost:8080/",
          "height": 114
        },
        "id": "domZxl7ly5l_",
        "outputId": "411dd611-cfaf-4d45-e686-ba758fb2caef"
      },
      "outputs": [
        {
          "output_type": "display_data",
          "data": {
            "text/plain": [
              "<Figure size 640x480 with 1 Axes>"
            ],
            "image/png": "[encoded data removed]"
          },
          "metadata": {}
        }
      ],
      "source": [
        "# Define a single transformation\n",
        "transform = transforms.ColorJitter(brightness=0.8)\n",
        "\n",
        "# Generate some output transformations, and show results\n",
        "def visualize_transforms(image, T, n=10):\n",
        "  output_transforms = []\n",
        "  for i in range(n):\n",
        "    output = T(image)\n",
        "    output_transforms.append(output[0])\n",
        "\n",
        "  plt.imshow(np.hstack(output_transforms), cmap=plt.cm.binary)\n",
        "visualize_transforms(example_image, transform)"
      ]
    },
    {
      "cell_type": "code",
      "execution_count": null,
      "metadata": {
        "colab": {
          "base_uri": "https://localhost:8080/",
          "height": 114
        },
        "id": "DlQn8mw5n_bH",
        "outputId": "4204a14f-8447-4411-bf8c-9c65cb93f44a"
      },
      "outputs": [
        {
          "output_type": "display_data",
          "data": {
            "text/plain": [
              "<Figure size 640x480 with 1 Axes>"
            ],
            "image/png": "[encoded data removed]"
          },
          "metadata": {}
        }
      ],
      "source": [
        "# Define a single transformation\n",
        "transform = transforms.GaussianBlur(kernel_size=21)\n",
        "\n",
        "# Generate some output transformations, and show results\n",
        "def visualize_transforms(image, T, n=10):\n",
        "  output_transforms = []\n",
        "  for i in range(n):\n",
        "    output = T(image)\n",
        "    output_transforms.append(output[0])\n",
        "\n",
        "  plt.imshow(np.hstack(output_transforms), cmap=plt.cm.binary)\n",
        "visualize_transforms(example_image, transform)"
      ]
    },
    {
      "cell_type": "markdown",
      "metadata": {
        "id": "I-RFNkae7M7x"
      },
      "source": [
        "Just like layers in a model, we can layer transformations of our data by composing them together. Let's try combining our previous `ColorJitter` transform with a random rotation transform called `RandomRotation`."
      ]
    },
    {
      "cell_type": "code",
      "execution_count": null,
      "metadata": {
        "colab": {
          "base_uri": "https://localhost:8080/",
          "height": 114
        },
        "id": "TkR7_QUE0QXh",
        "outputId": "354eda6d-7e42-480c-e9b1-59446c08a189"
      },
      "outputs": [
        {
          "output_type": "display_data",
          "data": {
            "text/plain": [
              "<Figure size 640x480 with 1 Axes>"
            ],
            "image/png": "[encoded data removed]"
          },
          "metadata": {}
        }
      ],
      "source": [
        "two_transforms = transforms.Compose([\n",
        "    transforms.ColorJitter(brightness=0.8),\n",
        "    transforms.RandomRotation(degrees=20),\n",
        "])\n",
        "\n",
        "visualize_transforms(example_image, two_transforms)"
      ]
    },
    {
      "cell_type": "markdown",
      "metadata": {
        "id": "xapWThFq7dl7"
      },
      "source": [
        "Finally, we can build our final data transform for our MNIST training data. Feel free to add and try out different transforms here to augment your dataset in different ways!\n",
        "\n",
        "After constructing our transform, we have to add it to our dataset to make sure it gets used during training."
      ]
    },
    {
      "cell_type": "code",
      "execution_count": null,
      "metadata": {
        "id": "fKCDOTb-1Zpi"
      },
      "outputs": [],
      "source": [
        "# Note: to exclude a transform, comment it out with a # before it, ie. #     transforms.RandomRotation(degrees=25),\n",
        "training_transforms = transforms.Compose([\n",
        "    transforms.ColorJitter(contrast=0.5, brightness=0.5),\n",
        "    transforms.GaussianBlur(kernel_size=3),\n",
        "    transforms.RandomRotation(degrees=25),\n",
        "    # ... TODO: add any more transforms you would like here! ...\n",
        "    transforms.ToTensor()\n",
        "])\n",
        "\n",
        "# Add our transforms to our training dataset so they are used to augment our\n",
        "# dataset during training.\n",
        "training_data.transform = training_transforms"
      ]
    },
    {
      "cell_type": "markdown",
      "metadata": {
        "id": "bNP4s5gBfmJQ"
      },
      "source": [
        "**Question 4:** Data Augmentations\n",
        "\n",
        "* Why do we augment only the training data and not the testing data?\n",
        "* The MNIST data is black and white. If the data were color (RGB), what are some other augmentations we could try?\n"
      ]
    },
    {
      "cell_type": "markdown",
      "metadata": {
        "id": "aH-FfTvV7zHy"
      },
      "source": [
        "Now that we've augmented our dataset, let's build data loaders to grab and augment our data during training and testing."
      ]
    },
    {
      "cell_type": "code",
      "execution_count": null,
      "metadata": {
        "colab": {
          "base_uri": "https://localhost:8080/"
        },
        "id": "8DtCWIbcFzL2",
        "outputId": "6ecbedf1-187b-4b28-ab37-d560c278df2d"
      },
      "outputs": [
        {
          "output_type": "stream",
          "name": "stdout",
          "text": [
            "Using cuda device\n"
          ]
        }
      ],
      "source": [
        "device = \"cuda\" if torch.cuda.is_available() else \"cpu\"\n",
        "print(f\"Using {device} device\")\n",
        "\n",
        "training_dataloader = DataLoader(training_data, batch_size=64, shuffle=True)\n",
        "test_dataloader = DataLoader(test_data, batch_size=64, shuffle=True)"
      ]
    },
    {
      "cell_type": "markdown",
      "metadata": {
        "id": "BZ-Wo0LLZqL1"
      },
      "source": [
        "# Part 4: Training and Hyperarameters"
      ]
    },
    {
      "cell_type": "code",
      "execution_count": null,
      "metadata": {
        "id": "ikuJkZYQFf--"
      },
      "outputs": [],
      "source": [
        "#@title Define training and testing operations\n",
        "\n",
        "def train(model, optimizer, dataloader, epoch):\n",
        "  # set model to train mode\n",
        "  model.train()\n",
        "  avg_loss = 0\n",
        "  correct = 0\n",
        "  for batch_idx, (image, label) in enumerate(tqdm(dataloader)):\n",
        "    image = image.to(device)\n",
        "    label = label.to(device)\n",
        "    # reset optimizer\n",
        "    optimizer.zero_grad()\n",
        "    # get output\n",
        "    output = model(image)\n",
        "    # compute loss\n",
        "    loss = nn.CrossEntropyLoss()(output, label)\n",
        "    # run backpropagation to compute gradient of loss with respect to parameters\n",
        "    loss.backward()\n",
        "    # adjust parameters in opposite direction as gradient\n",
        "    optimizer.step()\n",
        "\n",
        "    # debugging values\n",
        "    avg_loss += loss.item() * label.size(0)\n",
        "    correct += (output.argmax(1) == label).float().sum().item()\n",
        "    if batch_idx % 100 == 0:\n",
        "      print(f\"Epoch {epoch} training loss: {loss.item():4f}\")\n",
        "\n",
        "  avg_loss /= len(dataloader.dataset)\n",
        "  correct /= len(dataloader.dataset)\n",
        "  print(f\"\\nEpoch {epoch} training accuracy: {100 * correct :4f}%, Epoch {epoch} avg loss: {avg_loss :4f}\\n\")\n",
        "\n",
        "def test(model, dataloader, epoch):\n",
        "  # set model to evaluation mode\n",
        "  model.eval()\n",
        "  avg_loss = 0\n",
        "  correct = 0\n",
        "  for batch_idx, (image, label) in enumerate(tqdm(dataloader)):\n",
        "    image = image.to(device)\n",
        "    label = label.to(device)\n",
        "    # get output\n",
        "    output = model(image)\n",
        "    # compute loss\n",
        "    loss = nn.CrossEntropyLoss()(output, label)\n",
        "\n",
        "    # debugging values\n",
        "    avg_loss += loss.item() * label.size(0)\n",
        "    correct += (output.argmax(1) == label).float().sum().item()\n",
        "    if batch_idx % 100 == 0:\n",
        "      print(f\"Epoch {epoch} test loss: {loss.item():4f}\")\n",
        "\n",
        "  avg_loss /= len(dataloader.dataset)\n",
        "  correct /= len(dataloader.dataset)\n",
        "  print(f\"\\nEpoch {epoch} test accuracy: {100 * correct :4f}%, avg loss: {avg_loss :4f}\\n\")\n",
        "  return (avg_loss, correct)"
      ]
    },
    {
      "cell_type": "markdown",
      "metadata": {
        "id": "vbdKA0oM8NTS"
      },
      "source": [
        "Now with our new and improved image CNN model along with our data augmentation pipeline, let's retrain our model from Lab 3 with these new improvements and check out our results!\n",
        "\n",
        "Try changing the hyperparameters and seeing how the behaviour during training and the graphs of loss and accuracy change. Can you find a sweet spot?"
      ]
    },
    {
      "cell_type": "code",
      "execution_count": null,
      "metadata": {
        "id": "rr72Zd9cW4sp"
      },
      "outputs": [],
      "source": [
        "learning_rate = 1e-4 # 1e-4 # TODO: Try changing the learning rate\n",
        "\n",
        "num_epochs = 3 # TODO: Try changing the number of epochs"
      ]
    },
    {
      "cell_type": "code",
      "execution_count": null,
      "metadata": {
        "colab": {
          "base_uri": "https://localhost:8080/",
          "height": 1000
        },
        "id": "BjYdAWZ6FfoP",
        "outputId": "11f92cb3-4986-4e0d-f1ad-60b967987ed5"
      },
      "outputs": [
        {
          "output_type": "stream",
          "name": "stderr",
          "text": [
            "  0%|          | 2/938 [00:00<01:31, 10.25it/s]"
          ]
        },
        {
          "output_type": "stream",
          "name": "stdout",
          "text": [
            "Epoch 0 training loss: 2.299489\n"
          ]
        },
        {
          "output_type": "stream",
          "name": "stderr",
          "text": [
            " 11%|█         | 102/938 [00:07<00:58, 14.25it/s]"
          ]
        },
        {
          "output_type": "stream",
          "name": "stdout",
          "text": [
            "Epoch 0 training loss: 2.241041\n"
          ]
        },
        {
          "output_type": "stream",
          "name": "stderr",
          "text": [
            " 22%|██▏       | 202/938 [00:15<00:56, 13.07it/s]"
          ]
        },
        {
          "output_type": "stream",
          "name": "stdout",
          "text": [
            "Epoch 0 training loss: 1.713949\n"
          ]
        },
        {
          "output_type": "stream",
          "name": "stderr",
          "text": [
            " 32%|███▏      | 304/938 [00:22<00:44, 14.17it/s]"
          ]
        },
        {
          "output_type": "stream",
          "name": "stdout",
          "text": [
            "Epoch 0 training loss: 0.979005\n"
          ]
        },
        {
          "output_type": "stream",
          "name": "stderr",
          "text": [
            " 43%|████▎     | 402/938 [00:30<00:38, 14.00it/s]"
          ]
        },
        {
          "output_type": "stream",
          "name": "stdout",
          "text": [
            "Epoch 0 training loss: 0.992724\n"
          ]
        },
        {
          "output_type": "stream",
          "name": "stderr",
          "text": [
            " 54%|█████▎    | 502/938 [00:38<00:46,  9.33it/s]"
          ]
        },
        {
          "output_type": "stream",
          "name": "stdout",
          "text": [
            "Epoch 0 training loss: 0.724266\n"
          ]
        },
        {
          "output_type": "stream",
          "name": "stderr",
          "text": [
            " 64%|██████▍   | 603/938 [00:46<00:24, 13.94it/s]"
          ]
        },
        {
          "output_type": "stream",
          "name": "stdout",
          "text": [
            "Epoch 0 training loss: 0.721071\n"
          ]
        },
        {
          "output_type": "stream",
          "name": "stderr",
          "text": [
            " 75%|███████▍  | 703/938 [00:53<00:16, 14.56it/s]"
          ]
        },
        {
          "output_type": "stream",
          "name": "stdout",
          "text": [
            "Epoch 0 training loss: 0.599384\n"
          ]
        },
        {
          "output_type": "stream",
          "name": "stderr",
          "text": [
            " 86%|████████▌ | 803/938 [01:00<00:09, 14.28it/s]"
          ]
        },
        {
          "output_type": "stream",
          "name": "stdout",
          "text": [
            "Epoch 0 training loss: 0.555967\n"
          ]
        },
        {
          "output_type": "stream",
          "name": "stderr",
          "text": [
            " 96%|█████████▋| 903/938 [01:08<00:02, 14.13it/s]"
          ]
        },
        {
          "output_type": "stream",
          "name": "stdout",
          "text": [
            "Epoch 0 training loss: 0.457875\n"
          ]
        },
        {
          "output_type": "stream",
          "name": "stderr",
          "text": [
            "100%|██████████| 938/938 [01:10<00:00, 13.25it/s]\n"
          ]
        },
        {
          "output_type": "stream",
          "name": "stdout",
          "text": [
            "\n",
            "Epoch 0 training accuracy: 67.690000%, Epoch 0 avg loss: 1.043852\n",
            "\n"
          ]
        },
        {
          "output_type": "stream",
          "name": "stderr",
          "text": [
            "  8%|▊         | 13/157 [00:00<00:01, 120.67it/s]"
          ]
        },
        {
          "output_type": "stream",
          "name": "stdout",
          "text": [
            "Epoch 0 test loss: 0.442768\n"
          ]
        },
        {
          "output_type": "stream",
          "name": "stderr",
          "text": [
            " 78%|███████▊  | 123/157 [00:00<00:00, 131.88it/s]"
          ]
        },
        {
          "output_type": "stream",
          "name": "stdout",
          "text": [
            "Epoch 0 test loss: 0.258249\n"
          ]
        },
        {
          "output_type": "stream",
          "name": "stderr",
          "text": [
            "100%|██████████| 157/157 [00:01<00:00, 130.87it/s]\n"
          ]
        },
        {
          "output_type": "stream",
          "name": "stdout",
          "text": [
            "\n",
            "Epoch 0 test accuracy: 90.440000%, avg loss: 0.309236\n",
            "\n"
          ]
        },
        {
          "output_type": "stream",
          "name": "stderr",
          "text": [
            "  0%|          | 2/938 [00:00<01:05, 14.33it/s]"
          ]
        },
        {
          "output_type": "stream",
          "name": "stdout",
          "text": [
            "Epoch 1 training loss: 0.708582\n"
          ]
        },
        {
          "output_type": "stream",
          "name": "stderr",
          "text": [
            " 11%|█         | 102/938 [00:07<00:58, 14.28it/s]"
          ]
        },
        {
          "output_type": "stream",
          "name": "stdout",
          "text": [
            "Epoch 1 training loss: 0.369422\n"
          ]
        },
        {
          "output_type": "stream",
          "name": "stderr",
          "text": [
            " 22%|██▏       | 202/938 [00:15<01:06, 11.02it/s]"
          ]
        },
        {
          "output_type": "stream",
          "name": "stdout",
          "text": [
            "Epoch 1 training loss: 0.475950\n"
          ]
        },
        {
          "output_type": "stream",
          "name": "stderr",
          "text": [
            " 32%|███▏      | 304/938 [00:23<00:43, 14.56it/s]"
          ]
        },
        {
          "output_type": "stream",
          "name": "stdout",
          "text": [
            "Epoch 1 training loss: 0.358849\n"
          ]
        },
        {
          "output_type": "stream",
          "name": "stderr",
          "text": [
            " 43%|████▎     | 402/938 [00:30<00:37, 14.39it/s]"
          ]
        },
        {
          "output_type": "stream",
          "name": "stdout",
          "text": [
            "Epoch 1 training loss: 0.395207\n"
          ]
        },
        {
          "output_type": "stream",
          "name": "stderr",
          "text": [
            " 54%|█████▎    | 502/938 [00:38<00:30, 14.39it/s]"
          ]
        },
        {
          "output_type": "stream",
          "name": "stdout",
          "text": [
            "Epoch 1 training loss: 0.410892\n"
          ]
        },
        {
          "output_type": "stream",
          "name": "stderr",
          "text": [
            " 64%|██████▍   | 602/938 [00:45<00:24, 13.68it/s]"
          ]
        },
        {
          "output_type": "stream",
          "name": "stdout",
          "text": [
            "Epoch 1 training loss: 0.482182\n"
          ]
        },
        {
          "output_type": "stream",
          "name": "stderr",
          "text": [
            " 75%|███████▍  | 702/938 [00:53<00:21, 10.89it/s]"
          ]
        },
        {
          "output_type": "stream",
          "name": "stdout",
          "text": [
            "Epoch 1 training loss: 0.519936\n"
          ]
        },
        {
          "output_type": "stream",
          "name": "stderr",
          "text": [
            " 86%|████████▌ | 802/938 [01:01<00:10, 13.04it/s]"
          ]
        },
        {
          "output_type": "stream",
          "name": "stdout",
          "text": [
            "Epoch 1 training loss: 0.398643\n"
          ]
        },
        {
          "output_type": "stream",
          "name": "stderr",
          "text": [
            " 96%|█████████▌| 902/938 [01:09<00:02, 14.13it/s]"
          ]
        },
        {
          "output_type": "stream",
          "name": "stdout",
          "text": [
            "Epoch 1 training loss: 0.353871\n"
          ]
        },
        {
          "output_type": "stream",
          "name": "stderr",
          "text": [
            "100%|██████████| 938/938 [01:11<00:00, 13.09it/s]\n"
          ]
        },
        {
          "output_type": "stream",
          "name": "stdout",
          "text": [
            "\n",
            "Epoch 1 training accuracy: 88.845000%, Epoch 1 avg loss: 0.385333\n",
            "\n"
          ]
        },
        {
          "output_type": "stream",
          "name": "stderr",
          "text": [
            "  9%|▉         | 14/157 [00:00<00:01, 137.80it/s]"
          ]
        },
        {
          "output_type": "stream",
          "name": "stdout",
          "text": [
            "Epoch 1 test loss: 0.336548\n"
          ]
        },
        {
          "output_type": "stream",
          "name": "stderr",
          "text": [
            " 80%|████████  | 126/157 [00:00<00:00, 129.19it/s]"
          ]
        },
        {
          "output_type": "stream",
          "name": "stdout",
          "text": [
            "Epoch 1 test loss: 0.168051\n"
          ]
        },
        {
          "output_type": "stream",
          "name": "stderr",
          "text": [
            "100%|██████████| 157/157 [00:01<00:00, 129.37it/s]\n"
          ]
        },
        {
          "output_type": "stream",
          "name": "stdout",
          "text": [
            "\n",
            "Epoch 1 test accuracy: 93.770000%, avg loss: 0.210164\n",
            "\n"
          ]
        },
        {
          "output_type": "stream",
          "name": "stderr",
          "text": [
            "  0%|          | 2/938 [00:00<01:09, 13.47it/s]"
          ]
        },
        {
          "output_type": "stream",
          "name": "stdout",
          "text": [
            "Epoch 2 training loss: 0.282918\n"
          ]
        },
        {
          "output_type": "stream",
          "name": "stderr",
          "text": [
            " 11%|█         | 102/938 [00:07<00:59, 14.08it/s]"
          ]
        },
        {
          "output_type": "stream",
          "name": "stdout",
          "text": [
            "Epoch 2 training loss: 0.241025\n"
          ]
        },
        {
          "output_type": "stream",
          "name": "stderr",
          "text": [
            " 22%|██▏       | 202/938 [00:14<00:51, 14.20it/s]"
          ]
        },
        {
          "output_type": "stream",
          "name": "stdout",
          "text": [
            "Epoch 2 training loss: 0.219101\n"
          ]
        },
        {
          "output_type": "stream",
          "name": "stderr",
          "text": [
            " 32%|███▏      | 302/938 [00:22<00:49, 12.86it/s]"
          ]
        },
        {
          "output_type": "stream",
          "name": "stdout",
          "text": [
            "Epoch 2 training loss: 0.392000\n"
          ]
        },
        {
          "output_type": "stream",
          "name": "stderr",
          "text": [
            " 43%|████▎     | 402/938 [00:30<00:47, 11.22it/s]"
          ]
        },
        {
          "output_type": "stream",
          "name": "stdout",
          "text": [
            "Epoch 2 training loss: 0.170723\n"
          ]
        },
        {
          "output_type": "stream",
          "name": "stderr",
          "text": [
            " 54%|█████▎    | 502/938 [00:37<00:30, 14.26it/s]"
          ]
        },
        {
          "output_type": "stream",
          "name": "stdout",
          "text": [
            "Epoch 2 training loss: 0.263658\n"
          ]
        },
        {
          "output_type": "stream",
          "name": "stderr",
          "text": [
            " 64%|██████▍   | 602/938 [00:45<00:23, 14.40it/s]"
          ]
        },
        {
          "output_type": "stream",
          "name": "stdout",
          "text": [
            "Epoch 2 training loss: 0.323250\n"
          ]
        },
        {
          "output_type": "stream",
          "name": "stderr",
          "text": [
            " 75%|███████▍  | 702/938 [00:52<00:16, 13.98it/s]"
          ]
        },
        {
          "output_type": "stream",
          "name": "stdout",
          "text": [
            "Epoch 2 training loss: 0.267891\n"
          ]
        },
        {
          "output_type": "stream",
          "name": "stderr",
          "text": [
            " 86%|████████▌ | 802/938 [00:59<00:09, 14.05it/s]"
          ]
        },
        {
          "output_type": "stream",
          "name": "stdout",
          "text": [
            "Epoch 2 training loss: 0.133827\n"
          ]
        },
        {
          "output_type": "stream",
          "name": "stderr",
          "text": [
            " 96%|█████████▌| 902/938 [01:07<00:03, 11.18it/s]"
          ]
        },
        {
          "output_type": "stream",
          "name": "stdout",
          "text": [
            "Epoch 2 training loss: 0.330644\n"
          ]
        },
        {
          "output_type": "stream",
          "name": "stderr",
          "text": [
            "100%|██████████| 938/938 [01:09<00:00, 13.41it/s]\n"
          ]
        },
        {
          "output_type": "stream",
          "name": "stdout",
          "text": [
            "\n",
            "Epoch 2 training accuracy: 92.021667%, Epoch 2 avg loss: 0.277247\n",
            "\n"
          ]
        },
        {
          "output_type": "stream",
          "name": "stderr",
          "text": [
            "  9%|▉         | 14/157 [00:00<00:01, 136.33it/s]"
          ]
        },
        {
          "output_type": "stream",
          "name": "stdout",
          "text": [
            "Epoch 2 test loss: 0.209035\n"
          ]
        },
        {
          "output_type": "stream",
          "name": "stderr",
          "text": [
            " 80%|████████  | 126/157 [00:00<00:00, 128.54it/s]"
          ]
        },
        {
          "output_type": "stream",
          "name": "stdout",
          "text": [
            "Epoch 2 test loss: 0.148632\n"
          ]
        },
        {
          "output_type": "stream",
          "name": "stderr",
          "text": [
            "100%|██████████| 157/157 [00:01<00:00, 132.66it/s]\n"
          ]
        },
        {
          "output_type": "stream",
          "name": "stdout",
          "text": [
            "\n",
            "Epoch 2 test accuracy: 95.150000%, avg loss: 0.157968\n",
            "\n"
          ]
        },
        {
          "output_type": "display_data",
          "data": {
            "text/plain": [
              "<Figure size 640x480 with 1 Axes>"
            ],
            "image/png": "[encoded data removed]"
          },
          "metadata": {}
        },
        {
          "output_type": "display_data",
          "data": {
            "text/plain": [
              "<Figure size 640x480 with 1 Axes>"
            ],
            "image/png": "[encoded data removed]"
          },
          "metadata": {}
        }
      ],
      "source": [
        "# Create the optimizer\n",
        "model = get_model()\n",
        "optimizer = torch.optim.Adam(model.parameters(), lr=learning_rate)\n",
        "\n",
        "model.to(device)\n",
        "\n",
        "# We use these to store the loss and accuracy to plot them later\n",
        "losses, accs = [], []\n",
        "\n",
        "for i in range(num_epochs):\n",
        "  train(model, optimizer, training_dataloader, i)\n",
        "  loss, acc = test(model, test_dataloader, i)\n",
        "  losses.append(loss)\n",
        "  accs.append(acc)\n",
        "\n",
        "# Plotting\n",
        "plt.plot(losses)\n",
        "plt.ylabel(\"Average loss\")\n",
        "plt.xlabel(\"Epoch\")\n",
        "plt.show()\n",
        "\n",
        "plt.plot(accs)\n",
        "plt.ylabel(\"Test accuracy\")\n",
        "plt.xlabel(\"Epoch\")\n",
        "plt.show()"
      ]
    },
    {
      "cell_type": "markdown",
      "metadata": {
        "id": "Gm92qIRwgJyc"
      },
      "source": [
        "**Question 5:** CNN Performance & Experiments\n",
        "\n",
        "* Train a model with just color transform, gausian transform, and rotation transform. Then train a model with all three transforms. Which augmentations help more than others for training and performance? Note: you can use 3 epochs for each experiment and compare the results, it should take around 4 minutes to run each experiment if the GPU is being used.\n",
        "* Train the CNN without augmentation. How much does performance improve after augmentation?\n",
        "* Compare the results to the baseline neural network model from the previous lab. How much better is the performance of the CNNs compared to the baseline neural network model?\n",
        "* Try changing some part of the CNN model, such as the in_channels / out_channels, or the number of layers. How does the performance change?\n",
        "* Competition time! Try to get the best performance on the test set. You can change anything including learning rate, number of epochs, model size, augmentation, etc..."
      ]
    },
    {
      "cell_type": "markdown",
      "metadata": {
        "id": "1fWzWSyFTm_x"
      },
      "source": [
        "Congratulations on significantly improving the performance of your image model!! 🎊"
      ]
    }
  ],
  "metadata": {
    "accelerator": "GPU",
    "colab": {
      "provenance": [],
      "include_colab_link": true
    },
    "gpuClass": "standard",
    "kernelspec": {
      "display_name": "Python 3",
      "name": "python3"
    },
    "language_info": {
      "name": "python"
    }
  },
  "nbformat": 4,
  "nbformat_minor": 0
}